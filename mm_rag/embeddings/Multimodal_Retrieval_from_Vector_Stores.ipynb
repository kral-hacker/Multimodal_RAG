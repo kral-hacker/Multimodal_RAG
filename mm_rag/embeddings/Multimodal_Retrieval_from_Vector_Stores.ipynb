{
 "cells": [
  {
   "cell_type": "code",
   "execution_count": 1,
   "metadata": {},
   "outputs": [
    {
     "name": "stderr",
     "output_type": "stream",
     "text": [
      "C:\\Windows\\Temp\\ipykernel_19124\\2964940163.py:1: LangChainDeprecationWarning: As of langchain-core 0.3.0, LangChain uses pydantic v2 internally. The langchain_core.pydantic_v1 module was a compatibility shim for pydantic v1, and should no longer be used. Please update the code to import from Pydantic directly.\n",
      "\n",
      "For example, replace imports like: `from langchain_core.pydantic_v1 import BaseModel`\n",
      "with: `from pydantic import BaseModel`\n",
      "or the v1 compatibility namespace if you are working in a code base that has not been fully upgraded to pydantic 2 yet. \tfrom pydantic.v1 import BaseModel\n",
      "\n",
      "  from mm_rag.embeddings.bridgetower_embeddings import (\n",
      "d:\\Multimodal RAG\\embedding\\Lib\\site-packages\\tqdm\\auto.py:21: TqdmWarning: IProgress not found. Please update jupyter and ipywidgets. See https://ipywidgets.readthedocs.io/en/stable/user_install.html\n",
      "  from .autonotebook import tqdm as notebook_tqdm\n"
     ]
    },
    {
     "name": "stdout",
     "output_type": "stream",
     "text": [
      "BridgeTowerConfig {\n",
      "  \"_attn_implementation_autoset\": true,\n",
      "  \"contrastive_hidden_size\": 512,\n",
      "  \"drop_rate\": 0.1,\n",
      "  \"head_hidden_scale\": 2,\n",
      "  \"hidden_act\": \"gelu\",\n",
      "  \"hidden_size\": 1024,\n",
      "  \"init_layernorm_from_vision_encoder\": false,\n",
      "  \"initializer_factor\": 1,\n",
      "  \"layer_norm_eps\": 1e-05,\n",
      "  \"link_tower_type\": \"add\",\n",
      "  \"logit_scale_init_value\": 2.6592,\n",
      "  \"model_type\": \"bridgetower\",\n",
      "  \"num_attention_heads\": 16,\n",
      "  \"num_hidden_layers\": 6,\n",
      "  \"share_cross_modal_transformer_layers\": true,\n",
      "  \"share_link_tower_layers\": false,\n",
      "  \"text_config\": {\n",
      "    \"_attn_implementation_autoset\": true,\n",
      "    \"architectures\": [\n",
      "      \"BridgeTowerTextModel\"\n",
      "    ],\n",
      "    \"attention_probs_dropout_prob\": 0.1,\n",
      "    \"classifier_dropout\": null,\n",
      "    \"hidden_act\": \"gelu\",\n",
      "    \"hidden_dropout_prob\": 0.1,\n",
      "    \"hidden_size\": 1024,\n",
      "    \"initializer_factor\": 1,\n",
      "    \"initializer_range\": 0.02,\n",
      "    \"intermediate_size\": 4096,\n",
      "    \"layer_norm_eps\": 1e-05,\n",
      "    \"max_position_embeddings\": 514,\n",
      "    \"model_type\": \"bridgetower_text_model\",\n",
      "    \"num_attention_heads\": 16,\n",
      "    \"num_hidden_layers\": 24,\n",
      "    \"position_embedding_type\": \"absolute\",\n",
      "    \"torch_dtype\": \"float32\",\n",
      "    \"type_vocab_size\": 1,\n",
      "    \"use_cache\": true,\n",
      "    \"vocab_size\": 50265\n",
      "  },\n",
      "  \"tie_word_embeddings\": false,\n",
      "  \"torch_dtype\": \"float32\",\n",
      "  \"transformers_version\": \"4.50.0\",\n",
      "  \"vision_config\": {\n",
      "    \"_attn_implementation_autoset\": true,\n",
      "    \"architectures\": [\n",
      "      \"BridgeTowerVisionModel\"\n",
      "    ],\n",
      "    \"hidden_size\": 1024,\n",
      "    \"image_size\": 294,\n",
      "    \"initializer_factor\": 1,\n",
      "    \"layer_norm_eps\": 1e-05,\n",
      "    \"model_type\": \"bridgetower_vision_model\",\n",
      "    \"num_channels\": 3,\n",
      "    \"num_hidden_layers\": 24,\n",
      "    \"patch_size\": 14,\n",
      "    \"remove_last_layer\": false,\n",
      "    \"share_layernorm\": true,\n",
      "    \"stop_gradient\": false,\n",
      "    \"torch_dtype\": \"float32\"\n",
      "  }\n",
      "}\n",
      "\n",
      "Hidden size: 1024\n"
     ]
    }
   ],
   "source": [
    "from mm_rag.embeddings.bridgetower_embeddings import (\n",
    "    BridgeTowerEmbeddings\n",
    ")\n",
    "from mm_rag.vectorstores.multimodal_lancedb import MultimodalLanceDB\n",
    "import lancedb\n",
    "import json\n",
    "import os\n",
    "from PIL import Image\n",
    "from utils import load_json_file\n",
    "from utils import display_retrieved_results"
   ]
  },
  {
   "cell_type": "code",
   "execution_count": 2,
   "metadata": {},
   "outputs": [],
   "source": [
    "# declare host file\n",
    "LANCEDB_HOST_FILE = \"./shared_data/.lancedb\"\n",
    "# declare table name\n",
    "TBL_NAME = \"test_tbl\"\n",
    "# initialize vectorstore\n",
    "db = lancedb.connect(LANCEDB_HOST_FILE)"
   ]
  },
  {
   "cell_type": "code",
   "execution_count": 3,
   "metadata": {},
   "outputs": [],
   "source": [
    "# load metadata files\n",
    "vid1_metadata_path = './shared_data/videos/video1/metadatas.json'\n",
    "# vid2_metadata_path = './shared_data/videos/video2/metadatas.json'\n",
    "vid1_metadata = load_json_file(vid1_metadata_path)\n",
    "# vid2_metadata = load_json_file(vid2_metadata_path)\n",
    "\n",
    "# collect transcripts and image paths\n",
    "vid1_trans = [vid['transcript'] for vid in vid1_metadata]\n",
    "vid1_img_path = [vid['extracted_frame_path'] for vid in vid1_metadata]\n",
    "\n",
    "# vid2_trans = [vid['transcript'] for vid in vid2_metadata]\n",
    "# vid2_img_path = [vid['extracted_frame_path'] for vid in vid2_metadata]"
   ]
  },
  {
   "cell_type": "code",
   "execution_count": 4,
   "metadata": {},
   "outputs": [],
   "source": [
    "# for video1, we pick n = 7\n",
    "n = 7\n",
    "updated_vid1_trans = [\n",
    " ' '.join(vid1_trans[i-int(n/2) : i+int(n/2)]) if i-int(n/2) >= 0 else\n",
    " ' '.join(vid1_trans[0 : i + int(n/2)]) for i in range(len(vid1_trans))\n",
    "]\n",
    "\n",
    "# also need to update the updated transcripts in metadata\n",
    "for i in range(len(updated_vid1_trans)):\n",
    "    vid1_metadata[i]['transcript'] = updated_vid1_trans[i]"
   ]
  },
  {
   "cell_type": "code",
   "execution_count": 5,
   "metadata": {},
   "outputs": [
    {
     "name": "stdout",
     "output_type": "stream",
     "text": [
      "A transcript example before update:\n",
      "\"spacewalk and to now have the chance to have done\"\n",
      "\n",
      "After update:\n",
      "\"two months. The view is always amazing I didn't think I would do another spacewalk and to now have the chance to have done four more was just icing on the cake for a a wonderful mission.\"\n"
     ]
    }
   ],
   "source": [
    "print(f'A transcript example before update:\\n\"{vid1_trans[6]}\"')\n",
    "print()\n",
    "print(f'After update:\\n\"{updated_vid1_trans[6]}\"')"
   ]
  },
  {
   "cell_type": "markdown",
   "metadata": {},
   "source": [
    "Ingest Data to Lance DB"
   ]
  },
  {
   "cell_type": "code",
   "execution_count": 6,
   "metadata": {},
   "outputs": [
    {
     "name": "stderr",
     "output_type": "stream",
     "text": [
      "  4%|▍         | 1/26 [00:04<01:44,  4.16s/it]"
     ]
    },
    {
     "name": "stdout",
     "output_type": "stream",
     "text": [
      "Embedding shape after squeeze: (2048,)\n"
     ]
    },
    {
     "name": "stderr",
     "output_type": "stream",
     "text": [
      "  8%|▊         | 2/26 [00:07<01:30,  3.77s/it]"
     ]
    },
    {
     "name": "stdout",
     "output_type": "stream",
     "text": [
      "Embedding shape after squeeze: (2048,)\n"
     ]
    },
    {
     "name": "stderr",
     "output_type": "stream",
     "text": [
      " 12%|█▏        | 3/26 [00:11<01:23,  3.65s/it]"
     ]
    },
    {
     "name": "stdout",
     "output_type": "stream",
     "text": [
      "Embedding shape after squeeze: (2048,)\n"
     ]
    },
    {
     "name": "stderr",
     "output_type": "stream",
     "text": [
      " 15%|█▌        | 4/26 [00:14<01:16,  3.47s/it]"
     ]
    },
    {
     "name": "stdout",
     "output_type": "stream",
     "text": [
      "Embedding shape after squeeze: (2048,)\n"
     ]
    },
    {
     "name": "stderr",
     "output_type": "stream",
     "text": [
      " 19%|█▉        | 5/26 [00:17<01:11,  3.42s/it]"
     ]
    },
    {
     "name": "stdout",
     "output_type": "stream",
     "text": [
      "Embedding shape after squeeze: (2048,)\n"
     ]
    },
    {
     "name": "stderr",
     "output_type": "stream",
     "text": [
      " 23%|██▎       | 6/26 [00:20<01:06,  3.34s/it]"
     ]
    },
    {
     "name": "stdout",
     "output_type": "stream",
     "text": [
      "Embedding shape after squeeze: (2048,)\n"
     ]
    },
    {
     "name": "stderr",
     "output_type": "stream",
     "text": [
      " 27%|██▋       | 7/26 [00:24<01:03,  3.32s/it]"
     ]
    },
    {
     "name": "stdout",
     "output_type": "stream",
     "text": [
      "Embedding shape after squeeze: (2048,)\n"
     ]
    },
    {
     "name": "stderr",
     "output_type": "stream",
     "text": [
      " 31%|███       | 8/26 [00:27<00:59,  3.33s/it]"
     ]
    },
    {
     "name": "stdout",
     "output_type": "stream",
     "text": [
      "Embedding shape after squeeze: (2048,)\n"
     ]
    },
    {
     "name": "stderr",
     "output_type": "stream",
     "text": [
      " 35%|███▍      | 9/26 [00:30<00:56,  3.34s/it]"
     ]
    },
    {
     "name": "stdout",
     "output_type": "stream",
     "text": [
      "Embedding shape after squeeze: (2048,)\n"
     ]
    },
    {
     "name": "stderr",
     "output_type": "stream",
     "text": [
      " 38%|███▊      | 10/26 [00:34<00:53,  3.32s/it]"
     ]
    },
    {
     "name": "stdout",
     "output_type": "stream",
     "text": [
      "Embedding shape after squeeze: (2048,)\n"
     ]
    },
    {
     "name": "stderr",
     "output_type": "stream",
     "text": [
      " 42%|████▏     | 11/26 [00:37<00:49,  3.31s/it]"
     ]
    },
    {
     "name": "stdout",
     "output_type": "stream",
     "text": [
      "Embedding shape after squeeze: (2048,)\n"
     ]
    },
    {
     "name": "stderr",
     "output_type": "stream",
     "text": [
      " 46%|████▌     | 12/26 [00:40<00:46,  3.29s/it]"
     ]
    },
    {
     "name": "stdout",
     "output_type": "stream",
     "text": [
      "Embedding shape after squeeze: (2048,)\n"
     ]
    },
    {
     "name": "stderr",
     "output_type": "stream",
     "text": [
      " 50%|█████     | 13/26 [00:43<00:42,  3.28s/it]"
     ]
    },
    {
     "name": "stdout",
     "output_type": "stream",
     "text": [
      "Embedding shape after squeeze: (2048,)\n"
     ]
    },
    {
     "name": "stderr",
     "output_type": "stream",
     "text": [
      " 54%|█████▍    | 14/26 [00:47<00:39,  3.27s/it]"
     ]
    },
    {
     "name": "stdout",
     "output_type": "stream",
     "text": [
      "Embedding shape after squeeze: (2048,)\n"
     ]
    },
    {
     "name": "stderr",
     "output_type": "stream",
     "text": [
      " 58%|█████▊    | 15/26 [00:50<00:36,  3.32s/it]"
     ]
    },
    {
     "name": "stdout",
     "output_type": "stream",
     "text": [
      "Embedding shape after squeeze: (2048,)\n"
     ]
    },
    {
     "name": "stderr",
     "output_type": "stream",
     "text": [
      " 62%|██████▏   | 16/26 [00:54<00:33,  3.35s/it]"
     ]
    },
    {
     "name": "stdout",
     "output_type": "stream",
     "text": [
      "Embedding shape after squeeze: (2048,)\n"
     ]
    },
    {
     "name": "stderr",
     "output_type": "stream",
     "text": [
      " 65%|██████▌   | 17/26 [00:57<00:30,  3.34s/it]"
     ]
    },
    {
     "name": "stdout",
     "output_type": "stream",
     "text": [
      "Embedding shape after squeeze: (2048,)\n"
     ]
    },
    {
     "name": "stderr",
     "output_type": "stream",
     "text": [
      " 69%|██████▉   | 18/26 [01:00<00:26,  3.35s/it]"
     ]
    },
    {
     "name": "stdout",
     "output_type": "stream",
     "text": [
      "Embedding shape after squeeze: (2048,)\n"
     ]
    },
    {
     "name": "stderr",
     "output_type": "stream",
     "text": [
      " 73%|███████▎  | 19/26 [01:04<00:23,  3.35s/it]"
     ]
    },
    {
     "name": "stdout",
     "output_type": "stream",
     "text": [
      "Embedding shape after squeeze: (2048,)\n"
     ]
    },
    {
     "name": "stderr",
     "output_type": "stream",
     "text": [
      " 77%|███████▋  | 20/26 [01:07<00:20,  3.36s/it]"
     ]
    },
    {
     "name": "stdout",
     "output_type": "stream",
     "text": [
      "Embedding shape after squeeze: (2048,)\n"
     ]
    },
    {
     "name": "stderr",
     "output_type": "stream",
     "text": [
      " 81%|████████  | 21/26 [01:11<00:17,  3.42s/it]"
     ]
    },
    {
     "name": "stdout",
     "output_type": "stream",
     "text": [
      "Embedding shape after squeeze: (2048,)\n"
     ]
    },
    {
     "name": "stderr",
     "output_type": "stream",
     "text": [
      " 85%|████████▍ | 22/26 [01:14<00:13,  3.35s/it]"
     ]
    },
    {
     "name": "stdout",
     "output_type": "stream",
     "text": [
      "Embedding shape after squeeze: (2048,)\n"
     ]
    },
    {
     "name": "stderr",
     "output_type": "stream",
     "text": [
      " 88%|████████▊ | 23/26 [01:17<00:09,  3.30s/it]"
     ]
    },
    {
     "name": "stdout",
     "output_type": "stream",
     "text": [
      "Embedding shape after squeeze: (2048,)\n"
     ]
    },
    {
     "name": "stderr",
     "output_type": "stream",
     "text": [
      " 92%|█████████▏| 24/26 [01:20<00:06,  3.28s/it]"
     ]
    },
    {
     "name": "stdout",
     "output_type": "stream",
     "text": [
      "Embedding shape after squeeze: (2048,)\n"
     ]
    },
    {
     "name": "stderr",
     "output_type": "stream",
     "text": [
      " 96%|█████████▌| 25/26 [01:23<00:03,  3.22s/it]"
     ]
    },
    {
     "name": "stdout",
     "output_type": "stream",
     "text": [
      "Embedding shape after squeeze: (2048,)\n"
     ]
    },
    {
     "name": "stderr",
     "output_type": "stream",
     "text": [
      "100%|██████████| 26/26 [01:26<00:00,  3.34s/it]"
     ]
    },
    {
     "name": "stdout",
     "output_type": "stream",
     "text": [
      "Embedding shape after squeeze: (2048,)\n"
     ]
    },
    {
     "name": "stderr",
     "output_type": "stream",
     "text": [
      "\n"
     ]
    }
   ],
   "source": [
    "# initialize an BridgeTower embedder \n",
    "embedder = BridgeTowerEmbeddings()\n",
    "\n",
    "\n",
    "# you can pass in mode=\"append\" \n",
    "# to add more entries to the vector store\n",
    "# in case you want to start with a fresh vector store,\n",
    "# you can pass in mode=\"overwrite\" instead \n",
    "\n",
    "_ = MultimodalLanceDB.from_text_image_pairs(\n",
    "    texts=updated_vid1_trans,\n",
    "    image_paths=vid1_img_path,\n",
    "    embedding=embedder,\n",
    "    metadatas=vid1_metadata,\n",
    "    connection=db,\n",
    "    table_name=TBL_NAME,\n",
    "    mode=\"overwrite\", \n",
    ")"
   ]
  },
  {
   "cell_type": "markdown",
   "metadata": {},
   "source": [
    "Create connection to a table in lance db"
   ]
  },
  {
   "cell_type": "code",
   "execution_count": 7,
   "metadata": {},
   "outputs": [
    {
     "name": "stdout",
     "output_type": "stream",
     "text": [
      "There are 26 rows in the table\n"
     ]
    },
    {
     "data": {
      "text/html": [
       "<div>\n",
       "<style scoped>\n",
       "    .dataframe tbody tr th:only-of-type {\n",
       "        vertical-align: middle;\n",
       "    }\n",
       "\n",
       "    .dataframe tbody tr th {\n",
       "        vertical-align: top;\n",
       "    }\n",
       "\n",
       "    .dataframe thead th {\n",
       "        text-align: right;\n",
       "    }\n",
       "</style>\n",
       "<table border=\"1\" class=\"dataframe\">\n",
       "  <thead>\n",
       "    <tr style=\"text-align: right;\">\n",
       "      <th></th>\n",
       "      <th>text</th>\n",
       "      <th>image_path</th>\n",
       "    </tr>\n",
       "  </thead>\n",
       "  <tbody>\n",
       "    <tr>\n",
       "      <th>0</th>\n",
       "      <td>As I look back on the the mission that we've h...</td>\n",
       "      <td>./shared_data/videos/video1\\extracted_frame\\fr...</td>\n",
       "    </tr>\n",
       "    <tr>\n",
       "      <th>1</th>\n",
       "      <td>As I look back on the the mission that we've h...</td>\n",
       "      <td>./shared_data/videos/video1\\extracted_frame\\fr...</td>\n",
       "    </tr>\n",
       "    <tr>\n",
       "      <th>2</th>\n",
       "      <td>As I look back on the the mission that we've h...</td>\n",
       "      <td>./shared_data/videos/video1\\extracted_frame\\fr...</td>\n",
       "    </tr>\n",
       "  </tbody>\n",
       "</table>\n",
       "</div>"
      ],
      "text/plain": [
       "                                                text  \\\n",
       "0  As I look back on the the mission that we've h...   \n",
       "1  As I look back on the the mission that we've h...   \n",
       "2  As I look back on the the mission that we've h...   \n",
       "\n",
       "                                          image_path  \n",
       "0  ./shared_data/videos/video1\\extracted_frame\\fr...  \n",
       "1  ./shared_data/videos/video1\\extracted_frame\\fr...  \n",
       "2  ./shared_data/videos/video1\\extracted_frame\\fr...  "
      ]
     },
     "execution_count": 7,
     "metadata": {},
     "output_type": "execute_result"
    }
   ],
   "source": [
    "# open a connection to table TBL_NAME\n",
    "tbl = db.open_table(TBL_NAME)\n",
    "\n",
    "print(f\"There are {tbl.to_pandas().shape[0]} rows in the table\")\n",
    "# display the first 3 rows of the table\n",
    "tbl.to_pandas()[['text', 'image_path']].head(3)"
   ]
  },
  {
   "cell_type": "markdown",
   "metadata": {},
   "source": [
    "Creating a retreiver from lance db vector store"
   ]
  },
  {
   "cell_type": "code",
   "execution_count": 8,
   "metadata": {},
   "outputs": [],
   "source": [
    "# Creating a LanceDB vector store \n",
    "vectorstore = MultimodalLanceDB(\n",
    "    uri=LANCEDB_HOST_FILE, \n",
    "    embedding=embedder, \n",
    "    table_name=TBL_NAME)\n",
    "\n",
    "# creating a retriever for the vector store\n",
    "# search_type=\"similarity\" \n",
    "#  declares that the type of search that the Retriever should perform \n",
    "#  is similarity search\n",
    "# search_kwargs={\"k\": 1} means returning top-1 most similar document\n",
    "retriever = vectorstore.as_retriever(\n",
    "    search_type='similarity', \n",
    "    search_kwargs={\"k\": 1}\n",
    ")"
   ]
  },
  {
   "cell_type": "code",
   "execution_count": 12,
   "metadata": {},
   "outputs": [
    {
     "name": "stdout",
     "output_type": "stream",
     "text": [
      "\n"
     ]
    }
   ],
   "source": [
    "print(vectorstore._embedding)\n"
   ]
  },
  {
   "cell_type": "code",
   "execution_count": 9,
   "metadata": {},
   "outputs": [
    {
     "name": "stdout",
     "output_type": "stream",
     "text": [
      "Output keys (text-only): odict_keys(['last_hidden_state', 'pooler_output'])\n",
      "Pooler output shape (text-only): torch.Size([1, 1024])\n",
      "Embedding shape after squeeze (text-only): (1024,)\n"
     ]
    },
    {
     "ename": "RuntimeError",
     "evalue": "lance error: Invalid user input: query dim(1024) doesn't match the column vector vector dim(2048), C:\\Users\\runneradmin\\.cargo\\registry\\src\\index.crates.io-6f17d22bba15001f\\lance-0.24.1\\src\\dataset\\scanner.rs:724:25",
     "output_type": "error",
     "traceback": [
      "\u001b[31m---------------------------------------------------------------------------\u001b[39m",
      "\u001b[31mRuntimeError\u001b[39m                              Traceback (most recent call last)",
      "\u001b[36mCell\u001b[39m\u001b[36m \u001b[39m\u001b[32mIn[9]\u001b[39m\u001b[32m, line 8\u001b[39m\n\u001b[32m      1\u001b[39m retriever = vectorstore.as_retriever(\n\u001b[32m      2\u001b[39m     search_type=\u001b[33m'\u001b[39m\u001b[33msimilarity\u001b[39m\u001b[33m'\u001b[39m, \n\u001b[32m      3\u001b[39m     search_kwargs={\u001b[33m\"\u001b[39m\u001b[33mk\u001b[39m\u001b[33m\"\u001b[39m: \u001b[32m1\u001b[39m})\n\u001b[32m      4\u001b[39m query2 = (\n\u001b[32m      5\u001b[39m         \u001b[33m\"\u001b[39m\u001b[33man astronaut\u001b[39m\u001b[33m'\u001b[39m\u001b[33ms spacewalk \u001b[39m\u001b[33m\"\u001b[39m\n\u001b[32m      6\u001b[39m         \u001b[33m\"\u001b[39m\u001b[33mwith an amazing view of the earth from space behind\u001b[39m\u001b[33m\"\u001b[39m\n\u001b[32m      7\u001b[39m )\n\u001b[32m----> \u001b[39m\u001b[32m8\u001b[39m results2 = \u001b[43mretriever\u001b[49m\u001b[43m.\u001b[49m\u001b[43minvoke\u001b[49m\u001b[43m(\u001b[49m\u001b[43mquery2\u001b[49m\u001b[43m)\u001b[49m\n\u001b[32m      9\u001b[39m display_retrieved_results(results2)\n",
      "\u001b[36mFile \u001b[39m\u001b[32md:\\Multimodal RAG\\embedding\\Lib\\site-packages\\langchain_core\\retrievers.py:259\u001b[39m, in \u001b[36mBaseRetriever.invoke\u001b[39m\u001b[34m(self, input, config, **kwargs)\u001b[39m\n\u001b[32m    257\u001b[39m _kwargs = kwargs \u001b[38;5;28;01mif\u001b[39;00m \u001b[38;5;28mself\u001b[39m._expects_other_args \u001b[38;5;28;01melse\u001b[39;00m {}\n\u001b[32m    258\u001b[39m \u001b[38;5;28;01mif\u001b[39;00m \u001b[38;5;28mself\u001b[39m._new_arg_supported:\n\u001b[32m--> \u001b[39m\u001b[32m259\u001b[39m     result = \u001b[38;5;28;43mself\u001b[39;49m\u001b[43m.\u001b[49m\u001b[43m_get_relevant_documents\u001b[49m\u001b[43m(\u001b[49m\n\u001b[32m    260\u001b[39m \u001b[43m        \u001b[49m\u001b[38;5;28;43minput\u001b[39;49m\u001b[43m,\u001b[49m\u001b[43m \u001b[49m\u001b[43mrun_manager\u001b[49m\u001b[43m=\u001b[49m\u001b[43mrun_manager\u001b[49m\u001b[43m,\u001b[49m\u001b[43m \u001b[49m\u001b[43m*\u001b[49m\u001b[43m*\u001b[49m\u001b[43m_kwargs\u001b[49m\n\u001b[32m    261\u001b[39m \u001b[43m    \u001b[49m\u001b[43m)\u001b[49m\n\u001b[32m    262\u001b[39m \u001b[38;5;28;01melse\u001b[39;00m:\n\u001b[32m    263\u001b[39m     result = \u001b[38;5;28mself\u001b[39m._get_relevant_documents(\u001b[38;5;28minput\u001b[39m, **_kwargs)\n",
      "\u001b[36mFile \u001b[39m\u001b[32md:\\Multimodal RAG\\embedding\\Lib\\site-packages\\langchain_core\\vectorstores\\base.py:1074\u001b[39m, in \u001b[36mVectorStoreRetriever._get_relevant_documents\u001b[39m\u001b[34m(self, query, run_manager, **kwargs)\u001b[39m\n\u001b[32m   1072\u001b[39m _kwargs = \u001b[38;5;28mself\u001b[39m.search_kwargs | kwargs\n\u001b[32m   1073\u001b[39m \u001b[38;5;28;01mif\u001b[39;00m \u001b[38;5;28mself\u001b[39m.search_type == \u001b[33m\"\u001b[39m\u001b[33msimilarity\u001b[39m\u001b[33m\"\u001b[39m:\n\u001b[32m-> \u001b[39m\u001b[32m1074\u001b[39m     docs = \u001b[38;5;28;43mself\u001b[39;49m\u001b[43m.\u001b[49m\u001b[43mvectorstore\u001b[49m\u001b[43m.\u001b[49m\u001b[43msimilarity_search\u001b[49m\u001b[43m(\u001b[49m\u001b[43mquery\u001b[49m\u001b[43m,\u001b[49m\u001b[43m \u001b[49m\u001b[43m*\u001b[49m\u001b[43m*\u001b[49m\u001b[43m_kwargs\u001b[49m\u001b[43m)\u001b[49m\n\u001b[32m   1075\u001b[39m \u001b[38;5;28;01melif\u001b[39;00m \u001b[38;5;28mself\u001b[39m.search_type == \u001b[33m\"\u001b[39m\u001b[33msimilarity_score_threshold\u001b[39m\u001b[33m\"\u001b[39m:\n\u001b[32m   1076\u001b[39m     docs_and_similarities = (\n\u001b[32m   1077\u001b[39m         \u001b[38;5;28mself\u001b[39m.vectorstore.similarity_search_with_relevance_scores(\n\u001b[32m   1078\u001b[39m             query, **_kwargs\n\u001b[32m   1079\u001b[39m         )\n\u001b[32m   1080\u001b[39m     )\n",
      "\u001b[36mFile \u001b[39m\u001b[32md:\\Multimodal RAG\\embedding\\Lib\\site-packages\\langchain_community\\vectorstores\\lancedb.py:530\u001b[39m, in \u001b[36mLanceDB.similarity_search\u001b[39m\u001b[34m(self, query, k, name, filter, fts, **kwargs)\u001b[39m\n\u001b[32m    506\u001b[39m \u001b[38;5;28;01mdef\u001b[39;00m\u001b[38;5;250m \u001b[39m\u001b[34msimilarity_search\u001b[39m(\n\u001b[32m    507\u001b[39m     \u001b[38;5;28mself\u001b[39m,\n\u001b[32m    508\u001b[39m     query: \u001b[38;5;28mstr\u001b[39m,\n\u001b[32m   (...)\u001b[39m\u001b[32m    513\u001b[39m     **kwargs: Any,\n\u001b[32m    514\u001b[39m ) -> List[Document]:\n\u001b[32m    515\u001b[39m \u001b[38;5;250m    \u001b[39m\u001b[33;03m\"\"\"Return documents most similar to the query\u001b[39;00m\n\u001b[32m    516\u001b[39m \n\u001b[32m    517\u001b[39m \u001b[33;03m    Args:\u001b[39;00m\n\u001b[32m   (...)\u001b[39m\u001b[32m    528\u001b[39m \u001b[33;03m        List of documents most similar to the query.\u001b[39;00m\n\u001b[32m    529\u001b[39m \u001b[33;03m    \"\"\"\u001b[39;00m\n\u001b[32m--> \u001b[39m\u001b[32m530\u001b[39m     res = \u001b[38;5;28;43mself\u001b[39;49m\u001b[43m.\u001b[49m\u001b[43msimilarity_search_with_score\u001b[49m\u001b[43m(\u001b[49m\n\u001b[32m    531\u001b[39m \u001b[43m        \u001b[49m\u001b[43mquery\u001b[49m\u001b[43m=\u001b[49m\u001b[43mquery\u001b[49m\u001b[43m,\u001b[49m\u001b[43m \u001b[49m\u001b[43mk\u001b[49m\u001b[43m=\u001b[49m\u001b[43mk\u001b[49m\u001b[43m,\u001b[49m\u001b[43m \u001b[49m\u001b[43mname\u001b[49m\u001b[43m=\u001b[49m\u001b[43mname\u001b[49m\u001b[43m,\u001b[49m\u001b[43m \u001b[49m\u001b[38;5;28;43mfilter\u001b[39;49m\u001b[43m=\u001b[49m\u001b[38;5;28;43mfilter\u001b[39;49m\u001b[43m,\u001b[49m\u001b[43m \u001b[49m\u001b[43mfts\u001b[49m\u001b[43m=\u001b[49m\u001b[43mfts\u001b[49m\u001b[43m,\u001b[49m\u001b[43m \u001b[49m\u001b[43mscore\u001b[49m\u001b[43m=\u001b[49m\u001b[38;5;28;43;01mFalse\u001b[39;49;00m\u001b[43m,\u001b[49m\u001b[43m \u001b[49m\u001b[43m*\u001b[49m\u001b[43m*\u001b[49m\u001b[43mkwargs\u001b[49m\n\u001b[32m    532\u001b[39m \u001b[43m    \u001b[49m\u001b[43m)\u001b[49m\n\u001b[32m    533\u001b[39m     \u001b[38;5;28;01mreturn\u001b[39;00m res\n",
      "\u001b[36mFile \u001b[39m\u001b[32md:\\Multimodal RAG\\embedding\\Lib\\site-packages\\langchain_community\\vectorstores\\lancedb.py:503\u001b[39m, in \u001b[36mLanceDB.similarity_search_with_score\u001b[39m\u001b[34m(self, query, k, filter, **kwargs)\u001b[39m\n\u001b[32m    501\u001b[39m \u001b[38;5;28;01melse\u001b[39;00m:\n\u001b[32m    502\u001b[39m     embedding = \u001b[38;5;28mself\u001b[39m._embedding.embed_query(query)\n\u001b[32m--> \u001b[39m\u001b[32m503\u001b[39m     res = \u001b[38;5;28;43mself\u001b[39;49m\u001b[43m.\u001b[49m\u001b[43m_query\u001b[49m\u001b[43m(\u001b[49m\u001b[43membedding\u001b[49m\u001b[43m,\u001b[49m\u001b[43m \u001b[49m\u001b[43mk\u001b[49m\u001b[43m,\u001b[49m\u001b[43m \u001b[49m\u001b[38;5;28;43mfilter\u001b[39;49m\u001b[43m=\u001b[49m\u001b[38;5;28;43mfilter\u001b[39;49m\u001b[43m,\u001b[49m\u001b[43m \u001b[49m\u001b[43m*\u001b[49m\u001b[43m*\u001b[49m\u001b[43mkwargs\u001b[49m\u001b[43m)\u001b[49m\n\u001b[32m    504\u001b[39m     \u001b[38;5;28;01mreturn\u001b[39;00m \u001b[38;5;28mself\u001b[39m.results_to_docs(res, score=score)\n",
      "\u001b[36mFile \u001b[39m\u001b[32md:\\Multimodal RAG\\embedding\\Lib\\site-packages\\langchain_community\\vectorstores\\lancedb.py:397\u001b[39m, in \u001b[36mLanceDB._query\u001b[39m\u001b[34m(self, query, k, filter, name, **kwargs)\u001b[39m\n\u001b[32m    394\u001b[39m \u001b[38;5;28;01mif\u001b[39;00m query_type == \u001b[33m\"\u001b[39m\u001b[33mhybrid\u001b[39m\u001b[33m\"\u001b[39m \u001b[38;5;129;01mand\u001b[39;00m \u001b[38;5;28mself\u001b[39m._reranker \u001b[38;5;129;01mis\u001b[39;00m \u001b[38;5;129;01mnot\u001b[39;00m \u001b[38;5;28;01mNone\u001b[39;00m:\n\u001b[32m    395\u001b[39m     lance_query.rerank(reranker=\u001b[38;5;28mself\u001b[39m._reranker)\n\u001b[32m--> \u001b[39m\u001b[32m397\u001b[39m docs = \u001b[43mlance_query\u001b[49m\u001b[43m.\u001b[49m\u001b[43mto_arrow\u001b[49m\u001b[43m(\u001b[49m\u001b[43m)\u001b[49m\n\u001b[32m    398\u001b[39m \u001b[38;5;28;01mif\u001b[39;00m \u001b[38;5;28mlen\u001b[39m(docs) == \u001b[32m0\u001b[39m:\n\u001b[32m    399\u001b[39m     warnings.warn(\u001b[33m\"\u001b[39m\u001b[33mNo results found for the query.\u001b[39m\u001b[33m\"\u001b[39m)\n",
      "\u001b[36mFile \u001b[39m\u001b[32md:\\Multimodal RAG\\embedding\\Lib\\site-packages\\lancedb\\query.py:754\u001b[39m, in \u001b[36mLanceVectorQueryBuilder.to_arrow\u001b[39m\u001b[34m(self)\u001b[39m\n\u001b[32m    745\u001b[39m \u001b[38;5;28;01mdef\u001b[39;00m\u001b[38;5;250m \u001b[39m\u001b[34mto_arrow\u001b[39m(\u001b[38;5;28mself\u001b[39m) -> pa.Table:\n\u001b[32m    746\u001b[39m \u001b[38;5;250m    \u001b[39m\u001b[33;03m\"\"\"\u001b[39;00m\n\u001b[32m    747\u001b[39m \u001b[33;03m    Execute the query and return the results as an\u001b[39;00m\n\u001b[32m    748\u001b[39m \u001b[33;03m    [Apache Arrow Table](https://arrow.apache.org/docs/python/generated/pyarrow.Table.html#pyarrow.Table).\u001b[39;00m\n\u001b[32m   (...)\u001b[39m\u001b[32m    752\u001b[39m \u001b[33;03m    vector and the returned vectors.\u001b[39;00m\n\u001b[32m    753\u001b[39m \u001b[33;03m    \"\"\"\u001b[39;00m\n\u001b[32m--> \u001b[39m\u001b[32m754\u001b[39m     \u001b[38;5;28;01mreturn\u001b[39;00m \u001b[38;5;28;43mself\u001b[39;49m\u001b[43m.\u001b[49m\u001b[43mto_batches\u001b[49m\u001b[43m(\u001b[49m\u001b[43m)\u001b[49m.read_all()\n",
      "\u001b[36mFile \u001b[39m\u001b[32md:\\Multimodal RAG\\embedding\\Lib\\site-packages\\lancedb\\query.py:790\u001b[39m, in \u001b[36mLanceVectorQueryBuilder.to_batches\u001b[39m\u001b[34m(self, batch_size)\u001b[39m\n\u001b[32m    771\u001b[39m     vector = [v.tolist() \u001b[38;5;28;01mfor\u001b[39;00m v \u001b[38;5;129;01min\u001b[39;00m vector]\n\u001b[32m    772\u001b[39m query = Query(\n\u001b[32m    773\u001b[39m     vector=vector,\n\u001b[32m    774\u001b[39m     \u001b[38;5;28mfilter\u001b[39m=\u001b[38;5;28mself\u001b[39m._where,\n\u001b[32m   (...)\u001b[39m\u001b[32m    788\u001b[39m     use_index=\u001b[38;5;28mself\u001b[39m._use_index,\n\u001b[32m    789\u001b[39m )\n\u001b[32m--> \u001b[39m\u001b[32m790\u001b[39m result_set = \u001b[38;5;28;43mself\u001b[39;49m\u001b[43m.\u001b[49m\u001b[43m_table\u001b[49m\u001b[43m.\u001b[49m\u001b[43m_execute_query\u001b[49m\u001b[43m(\u001b[49m\u001b[43mquery\u001b[49m\u001b[43m,\u001b[49m\u001b[43m \u001b[49m\u001b[43mbatch_size\u001b[49m\u001b[43m)\u001b[49m\n\u001b[32m    791\u001b[39m \u001b[38;5;28;01mif\u001b[39;00m \u001b[38;5;28mself\u001b[39m._reranker \u001b[38;5;129;01mis\u001b[39;00m \u001b[38;5;129;01mnot\u001b[39;00m \u001b[38;5;28;01mNone\u001b[39;00m:\n\u001b[32m    792\u001b[39m     rs_table = result_set.read_all()\n",
      "\u001b[36mFile \u001b[39m\u001b[32md:\\Multimodal RAG\\embedding\\Lib\\site-packages\\lancedb\\table.py:2233\u001b[39m, in \u001b[36mLanceTable._execute_query\u001b[39m\u001b[34m(self, query, batch_size)\u001b[39m\n\u001b[32m   2230\u001b[39m \u001b[38;5;28;01mdef\u001b[39;00m\u001b[38;5;250m \u001b[39m\u001b[34m_execute_query\u001b[39m(\n\u001b[32m   2231\u001b[39m     \u001b[38;5;28mself\u001b[39m, query: Query, batch_size: Optional[\u001b[38;5;28mint\u001b[39m] = \u001b[38;5;28;01mNone\u001b[39;00m\n\u001b[32m   2232\u001b[39m ) -> pa.RecordBatchReader:\n\u001b[32m-> \u001b[39m\u001b[32m2233\u001b[39m     \u001b[38;5;28;01mreturn\u001b[39;00m \u001b[43mLOOP\u001b[49m\u001b[43m.\u001b[49m\u001b[43mrun\u001b[49m\u001b[43m(\u001b[49m\u001b[38;5;28;43mself\u001b[39;49m\u001b[43m.\u001b[49m\u001b[43m_table\u001b[49m\u001b[43m.\u001b[49m\u001b[43m_execute_query\u001b[49m\u001b[43m(\u001b[49m\u001b[43mquery\u001b[49m\u001b[43m,\u001b[49m\u001b[43m \u001b[49m\u001b[43mbatch_size\u001b[49m\u001b[43m)\u001b[49m\u001b[43m)\u001b[49m\n",
      "\u001b[36mFile \u001b[39m\u001b[32md:\\Multimodal RAG\\embedding\\Lib\\site-packages\\lancedb\\background_loop.py:25\u001b[39m, in \u001b[36mBackgroundEventLoop.run\u001b[39m\u001b[34m(self, future)\u001b[39m\n\u001b[32m     24\u001b[39m \u001b[38;5;28;01mdef\u001b[39;00m\u001b[38;5;250m \u001b[39m\u001b[34mrun\u001b[39m(\u001b[38;5;28mself\u001b[39m, future):\n\u001b[32m---> \u001b[39m\u001b[32m25\u001b[39m     \u001b[38;5;28;01mreturn\u001b[39;00m \u001b[43masyncio\u001b[49m\u001b[43m.\u001b[49m\u001b[43mrun_coroutine_threadsafe\u001b[49m\u001b[43m(\u001b[49m\u001b[43mfuture\u001b[49m\u001b[43m,\u001b[49m\u001b[43m \u001b[49m\u001b[38;5;28;43mself\u001b[39;49m\u001b[43m.\u001b[49m\u001b[43mloop\u001b[49m\u001b[43m)\u001b[49m\u001b[43m.\u001b[49m\u001b[43mresult\u001b[49m\u001b[43m(\u001b[49m\u001b[43m)\u001b[49m\n",
      "\u001b[36mFile \u001b[39m\u001b[32m~\\AppData\\Local\\Programs\\Python\\Python313\\Lib\\concurrent\\futures\\_base.py:456\u001b[39m, in \u001b[36mFuture.result\u001b[39m\u001b[34m(self, timeout)\u001b[39m\n\u001b[32m    454\u001b[39m     \u001b[38;5;28;01mraise\u001b[39;00m CancelledError()\n\u001b[32m    455\u001b[39m \u001b[38;5;28;01melif\u001b[39;00m \u001b[38;5;28mself\u001b[39m._state == FINISHED:\n\u001b[32m--> \u001b[39m\u001b[32m456\u001b[39m     \u001b[38;5;28;01mreturn\u001b[39;00m \u001b[38;5;28;43mself\u001b[39;49m\u001b[43m.\u001b[49m\u001b[43m__get_result\u001b[49m\u001b[43m(\u001b[49m\u001b[43m)\u001b[49m\n\u001b[32m    457\u001b[39m \u001b[38;5;28;01melse\u001b[39;00m:\n\u001b[32m    458\u001b[39m     \u001b[38;5;28;01mraise\u001b[39;00m \u001b[38;5;167;01mTimeoutError\u001b[39;00m()\n",
      "\u001b[36mFile \u001b[39m\u001b[32m~\\AppData\\Local\\Programs\\Python\\Python313\\Lib\\concurrent\\futures\\_base.py:401\u001b[39m, in \u001b[36mFuture.__get_result\u001b[39m\u001b[34m(self)\u001b[39m\n\u001b[32m    399\u001b[39m \u001b[38;5;28;01mif\u001b[39;00m \u001b[38;5;28mself\u001b[39m._exception:\n\u001b[32m    400\u001b[39m     \u001b[38;5;28;01mtry\u001b[39;00m:\n\u001b[32m--> \u001b[39m\u001b[32m401\u001b[39m         \u001b[38;5;28;01mraise\u001b[39;00m \u001b[38;5;28mself\u001b[39m._exception\n\u001b[32m    402\u001b[39m     \u001b[38;5;28;01mfinally\u001b[39;00m:\n\u001b[32m    403\u001b[39m         \u001b[38;5;66;03m# Break a reference cycle with the exception in self._exception\u001b[39;00m\n\u001b[32m    404\u001b[39m         \u001b[38;5;28mself\u001b[39m = \u001b[38;5;28;01mNone\u001b[39;00m\n",
      "\u001b[36mFile \u001b[39m\u001b[32md:\\Multimodal RAG\\embedding\\Lib\\site-packages\\lancedb\\table.py:3282\u001b[39m, in \u001b[36mAsyncTable._execute_query\u001b[39m\u001b[34m(self, query, batch_size)\u001b[39m\n\u001b[32m   3279\u001b[39m     fts_columns = query.full_text_query.get(\u001b[33m\"\u001b[39m\u001b[33mcolumns\u001b[39m\u001b[33m\"\u001b[39m, []) \u001b[38;5;129;01mor\u001b[39;00m []\n\u001b[32m   3280\u001b[39m     async_query = async_query.nearest_to_text(fts_query, columns=fts_columns)\n\u001b[32m-> \u001b[39m\u001b[32m3282\u001b[39m table = \u001b[38;5;28;01mawait\u001b[39;00m async_query.to_arrow()\n\u001b[32m   3283\u001b[39m \u001b[38;5;28;01mreturn\u001b[39;00m table.to_reader()\n",
      "\u001b[36mFile \u001b[39m\u001b[32md:\\Multimodal RAG\\embedding\\Lib\\site-packages\\lancedb\\query.py:1662\u001b[39m, in \u001b[36mAsyncQueryBase.to_arrow\u001b[39m\u001b[34m(self)\u001b[39m\n\u001b[32m   1654\u001b[39m \u001b[38;5;28;01masync\u001b[39;00m \u001b[38;5;28;01mdef\u001b[39;00m\u001b[38;5;250m \u001b[39m\u001b[34mto_arrow\u001b[39m(\u001b[38;5;28mself\u001b[39m) -> pa.Table:\n\u001b[32m   1655\u001b[39m \u001b[38;5;250m    \u001b[39m\u001b[33;03m\"\"\"\u001b[39;00m\n\u001b[32m   1656\u001b[39m \u001b[33;03m    Execute the query and collect the results into an Apache Arrow Table.\u001b[39;00m\n\u001b[32m   1657\u001b[39m \n\u001b[32m   (...)\u001b[39m\u001b[32m   1660\u001b[39m \u001b[33;03m    [to_batches][lancedb.query.AsyncQueryBase.to_batches]\u001b[39;00m\n\u001b[32m   1661\u001b[39m \u001b[33;03m    \"\"\"\u001b[39;00m\n\u001b[32m-> \u001b[39m\u001b[32m1662\u001b[39m     batch_iter = \u001b[38;5;28;01mawait\u001b[39;00m \u001b[38;5;28mself\u001b[39m.to_batches()\n\u001b[32m   1663\u001b[39m     \u001b[38;5;28;01mreturn\u001b[39;00m pa.Table.from_batches(\n\u001b[32m   1664\u001b[39m         \u001b[38;5;28;01mawait\u001b[39;00m batch_iter.read_all(), schema=batch_iter.schema\n\u001b[32m   1665\u001b[39m     )\n",
      "\u001b[36mFile \u001b[39m\u001b[32md:\\Multimodal RAG\\embedding\\Lib\\site-packages\\lancedb\\query.py:2212\u001b[39m, in \u001b[36mAsyncVectorQuery.to_batches\u001b[39m\u001b[34m(self, max_batch_length)\u001b[39m\n\u001b[32m   2209\u001b[39m \u001b[38;5;28;01masync\u001b[39;00m \u001b[38;5;28;01mdef\u001b[39;00m\u001b[38;5;250m \u001b[39m\u001b[34mto_batches\u001b[39m(\n\u001b[32m   2210\u001b[39m     \u001b[38;5;28mself\u001b[39m, *, max_batch_length: Optional[\u001b[38;5;28mint\u001b[39m] = \u001b[38;5;28;01mNone\u001b[39;00m\n\u001b[32m   2211\u001b[39m ) -> AsyncRecordBatchReader:\n\u001b[32m-> \u001b[39m\u001b[32m2212\u001b[39m     reader = \u001b[38;5;28;01mawait\u001b[39;00m \u001b[38;5;28msuper\u001b[39m().to_batches()\n\u001b[32m   2213\u001b[39m     results = pa.Table.from_batches(\u001b[38;5;28;01mawait\u001b[39;00m reader.read_all(), reader.schema)\n\u001b[32m   2214\u001b[39m     \u001b[38;5;28;01mif\u001b[39;00m \u001b[38;5;28mself\u001b[39m._reranker:\n",
      "\u001b[36mFile \u001b[39m\u001b[32md:\\Multimodal RAG\\embedding\\Lib\\site-packages\\lancedb\\query.py:1652\u001b[39m, in \u001b[36mAsyncQueryBase.to_batches\u001b[39m\u001b[34m(self, max_batch_length)\u001b[39m\n\u001b[32m   1637\u001b[39m \u001b[38;5;28;01masync\u001b[39;00m \u001b[38;5;28;01mdef\u001b[39;00m\u001b[38;5;250m \u001b[39m\u001b[34mto_batches\u001b[39m(\n\u001b[32m   1638\u001b[39m     \u001b[38;5;28mself\u001b[39m, *, max_batch_length: Optional[\u001b[38;5;28mint\u001b[39m] = \u001b[38;5;28;01mNone\u001b[39;00m\n\u001b[32m   1639\u001b[39m ) -> AsyncRecordBatchReader:\n\u001b[32m   1640\u001b[39m \u001b[38;5;250m    \u001b[39m\u001b[33;03m\"\"\"\u001b[39;00m\n\u001b[32m   1641\u001b[39m \u001b[33;03m    Execute the query and return the results as an Apache Arrow RecordBatchReader.\u001b[39;00m\n\u001b[32m   1642\u001b[39m \n\u001b[32m   (...)\u001b[39m\u001b[32m   1650\u001b[39m \u001b[33;03m        underlying data is stored in smaller chunks.\u001b[39;00m\n\u001b[32m   1651\u001b[39m \u001b[33;03m    \"\"\"\u001b[39;00m\n\u001b[32m-> \u001b[39m\u001b[32m1652\u001b[39m     \u001b[38;5;28;01mreturn\u001b[39;00m AsyncRecordBatchReader(\u001b[38;5;28;01mawait\u001b[39;00m \u001b[38;5;28mself\u001b[39m._inner.execute(max_batch_length))\n",
      "\u001b[31mRuntimeError\u001b[39m: lance error: Invalid user input: query dim(1024) doesn't match the column vector vector dim(2048), C:\\Users\\runneradmin\\.cargo\\registry\\src\\index.crates.io-6f17d22bba15001f\\lance-0.24.1\\src\\dataset\\scanner.rs:724:25"
     ]
    }
   ],
   "source": [
    "retriever = vectorstore.as_retriever(\n",
    "    search_type='similarity', \n",
    "    search_kwargs={\"k\": 1})\n",
    "query2 = (\n",
    "        \"an astronaut's spacewalk \"\n",
    "        \"with an amazing view of the earth from space behind\"\n",
    ")\n",
    "results2 = retriever.invoke(query2)\n",
    "display_retrieved_results(results2)"
   ]
  },
  {
   "cell_type": "code",
   "execution_count": null,
   "metadata": {},
   "outputs": [],
   "source": []
  }
 ],
 "metadata": {
  "kernelspec": {
   "display_name": "embedding",
   "language": "python",
   "name": "python3"
  },
  "language_info": {
   "codemirror_mode": {
    "name": "ipython",
    "version": 3
   },
   "file_extension": ".py",
   "mimetype": "text/x-python",
   "name": "python",
   "nbconvert_exporter": "python",
   "pygments_lexer": "ipython3",
   "version": "3.13.2"
  }
 },
 "nbformat": 4,
 "nbformat_minor": 2
}
